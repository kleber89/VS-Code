{
  "nbformat": 4,
  "nbformat_minor": 0,
  "metadata": {
    "colab": {
      "name": "solucion.py",
      "provenance": [],
      "authorship_tag": "ABX9TyNXyY7DU7O4wAEkYH5feBuR",
      "include_colab_link": true
    },
    "kernelspec": {
      "name": "python3",
      "display_name": "Python 3"
    },
    "language_info": {
      "name": "python"
    }
  },
  "cells": [
    {
      "cell_type": "markdown",
      "metadata": {
        "id": "view-in-github",
        "colab_type": "text"
      },
      "source": [
        "<a href=\"https://colab.research.google.com/github/kleber89/VS-Code/blob/main/solucion_py.ipynb\" target=\"_parent\"><img src=\"https://colab.research.google.com/assets/colab-badge.svg\" alt=\"Open In Colab\"/></a>"
      ]
    },
    {
      "cell_type": "code",
      "execution_count": 1,
      "metadata": {
        "id": "yomWxpg8W5tb"
      },
      "outputs": [],
      "source": [
        "def solucion(b,n):\n",
        "    #ACÁ INICIA LA FUNCIÓN SOLUCIÓN (En este espacio debes entregar tu solución)\n",
        "\n",
        "    x = 0\n",
        "    \n",
        "    while True: \n",
        "        entrada = int(input(\"Ingrese el número: \"))\n",
        "        if entrada < 0 or entrada > b: \n",
        "           print(\"¡Te saliste del intervalo!\")  \n",
        "        elif entrada > n: \n",
        "            x +=1\n",
        "            print(\"¡Ups! Te pasaste\")  \n",
        "        elif entrada < n:\n",
        "            x +=1\n",
        "            print(\"¡Ups! Estás por debajo\") \n",
        "        elif entrada == n: \n",
        "            x +=1\n",
        "            print(f\"¡LO LOGRASTE! Usaste {x} intentos\") \n",
        "            \n",
        "            break  "
      ]
    },
    {
      "cell_type": "code",
      "source": [
        "solucion(30, 22) "
      ],
      "metadata": {
        "colab": {
          "base_uri": "https://localhost:8080/"
        },
        "id": "DdMlxXf4XAJI",
        "outputId": "1f93ca32-0995-4099-8d6e-86871cd7b099"
      },
      "execution_count": 2,
      "outputs": [
        {
          "output_type": "stream",
          "name": "stdout",
          "text": [
            "Ingrese el número: -1\n",
            "¡Te saliste del intervalo!\n",
            "Ingrese el número: -2\n",
            "¡Te saliste del intervalo!\n",
            "Ingrese el número: 100\n",
            "¡Te saliste del intervalo!\n",
            "Ingrese el número: 23\n",
            "¡Ups! Te pasaste\n",
            "Ingrese el número: 23\n",
            "¡Ups! Te pasaste\n",
            "Ingrese el número: 23\n",
            "¡Ups! Te pasaste\n",
            "Ingrese el número: 11\n",
            "¡Ups! Estás por debajo\n",
            "Ingrese el número: 12\n",
            "¡Ups! Estás por debajo\n",
            "Ingrese el número: 20\n",
            "¡Ups! Estás por debajo\n",
            "Ingrese el número: 22\n",
            "¡LO LOGRASTE! Usaste 7 intentos\n"
          ]
        }
      ]
    }
  ]
}