{
  "nbformat": 4,
  "nbformat_minor": 0,
  "metadata": {
    "colab": {
      "name": "Reto1 CleverP.ipynb",
      "provenance": [],
      "authorship_tag": "ABX9TyOs+r4qJiJel5Tv80veyp+/",
      "include_colab_link": true
    },
    "kernelspec": {
      "name": "python3",
      "display_name": "Python 3"
    },
    "language_info": {
      "name": "python"
    }
  },
  "cells": [
    {
      "cell_type": "markdown",
      "metadata": {
        "id": "view-in-github",
        "colab_type": "text"
      },
      "source": [
        "<a href=\"https://colab.research.google.com/github/kleber89/VS-Code/blob/main/Reto1_CleverP.ipynb\" target=\"_parent\"><img src=\"https://colab.research.google.com/assets/colab-badge.svg\" alt=\"Open In Colab\"/></a>"
      ]
    },
    {
      "cell_type": "code",
      "source": [
        "#Formato para adivinar el número ganador de la rifa pro habitantes de calle \n",
        "n = 'numero a elegir'\n",
        "\n",
        "b = 'número ≥ 30' \n",
        "\n",
        "intt = 0\n",
        "\n",
        "b = 22 \n",
        "n = (\"ingrese el numero\")\n",
        "while True: \n",
        "  n = int(input('ingrese el número'))\n",
        "  if n < 0 or n > b: \n",
        "   print(\"te saliste del intervalo\")  \n",
        "  n = int(input('ingrese el número'))\n",
        "  if n > b: \n",
        "    intt +=1\n",
        "    print(\"¡Ups! Te pasaste\") \n",
        "  n = int(input(\"ingrese el número\")) \n",
        "  if n < b:\n",
        "    intt +=1\n",
        "    print(\"¡Ups! Estas por debajo\") \n",
        "  n = int(input(\"ingrese el número\"))\n",
        "  if n == b: \n",
        "    intt +=1\n",
        "    print(\"¡LO LOGRASTE! Usaste\", intt,\"intentos\") \n",
        "\n",
        "    break  \n",
        "\n",
        "\n",
        "\n",
        " \n",
        "\n"
      ],
      "metadata": {
        "colab": {
          "base_uri": "https://localhost:8080/"
        },
        "id": "xTPow0_kKF0c",
        "outputId": "c52c1ec6-490e-4558-bcaa-a3098ed69226"
      },
      "execution_count": 39,
      "outputs": [
        {
          "output_type": "stream",
          "name": "stdout",
          "text": [
            "ingrese el número-3\n",
            "te saliste del intervalo\n",
            "ingrese el número56\n",
            "¡Ups! Te pasaste\n",
            "ingrese el número2\n",
            "¡Ups! Estas por debajo\n",
            "ingrese el número22\n",
            "¡LO LOGRASTE! Usaste 3 intentos\n"
          ]
        }
      ]
    },
    {
      "cell_type": "code",
      "source": [
        "#Formato para adivinar el número ganador de la rifa pro habitantes de calle \n",
        "n = 'numero a elegir'\n",
        "\n",
        "b = 'número ≥ 30' \n",
        "\n",
        "intt = 0\n",
        "\n",
        "b = 22 \n",
        "n = (\"ingrese el numero\") \n",
        "\n",
        "while n != b: \n",
        "  n = int(input(\"ingrese el numero\")) \n",
        "  if n < 0 or n > b: \n",
        "    print(\"Te saliste del intervalo\") \n",
        "  n = int(input(\"ingrese el numero\")) \n",
        "  if n > b:\n",
        "    intt +=1\n",
        "    print(\"¡Ups! Te pasaste\") \n",
        "  n = int(input(\"ingrese el numero\")) \n",
        "  if n < b: \n",
        "    intt +=1 \n",
        "    print(\"¡Ups! Estas por debajo\") \n",
        "  n = int(input(\"ingrese el valor\")) \n",
        "  if n == b: \n",
        "    intt +=1 \n",
        "    print(\"¡LO LOGRASTE! Usaste\", intt,\"Intentos\") \n",
        "\n",
        "    break     "
      ],
      "metadata": {
        "colab": {
          "base_uri": "https://localhost:8080/"
        },
        "id": "pJZZFMXXqtmT",
        "outputId": "c48cd00b-f9f4-4c0f-e6dd-51b1221e6c90"
      },
      "execution_count": 42,
      "outputs": [
        {
          "output_type": "stream",
          "name": "stdout",
          "text": [
            "ingrese el numero-2\n",
            "Te saliste del intervalo\n",
            "ingrese el numero96\n",
            "¡Ups! Te pasaste\n",
            "ingrese el numero3\n",
            "¡Ups! Estas por debajo\n",
            "ingrese el valor22\n",
            "¡LO LOGRASTE! Usaste 3 Intentos\n"
          ]
        }
      ]
    }
  ]
}